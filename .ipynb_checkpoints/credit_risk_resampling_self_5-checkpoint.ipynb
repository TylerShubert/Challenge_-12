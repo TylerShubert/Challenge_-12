{
 "cells": [
  {
   "cell_type": "markdown",
   "metadata": {},
   "source": [
    "# Credit Risk Classification\n",
    "\n",
    "Credit risk poses a classification problem that’s inherently imbalanced. This is because healthy loans easily outnumber risky loans. In this Challenge, you’ll use various techniques to train and evaluate models with imbalanced classes. You’ll use a dataset of historical lending activity from a peer-to-peer lending services company to build a model that can identify the creditworthiness of borrowers.\n",
    "\n",
    "## Instructions:\n",
    "\n",
    "This challenge consists of the following subsections:\n",
    "\n",
    "* Split the Data into Training and Testing Sets\n",
    "\n",
    "* Create a Logistic Regression Model with the Original Data\n",
    "\n",
    "* Predict a Logistic Regression Model with Resampled Training Data \n",
    "\n",
    "### Split the Data into Training and Testing Sets\n",
    "\n",
    "Open the starter code notebook and then use it to complete the following steps.\n",
    "\n",
    "1. Read the `lending_data.csv` data from the `Resources` folder into a Pandas DataFrame.\n",
    "\n",
    "2. Create the labels set (`y`)  from the “loan_status” column, and then create the features (`X`) DataFrame from the remaining columns.\n",
    "\n",
    "    > **Note** A value of `0` in the “loan_status” column means that the loan is healthy. A value of `1` means that the loan has a high risk of defaulting.  \n",
    "\n",
    "3. Check the balance of the labels variable (`y`) by using the `value_counts` function.\n",
    "\n",
    "4. Split the data into training and testing datasets by using `train_test_split`.\n",
    "\n",
    "### Create a Logistic Regression Model with the Original Data\n",
    "\n",
    "Employ your knowledge of logistic regression to complete the following steps:\n",
    "\n",
    "1. Fit a logistic regression model by using the training data (`X_train` and `y_train`).\n",
    "\n",
    "2. Save the predictions on the testing data labels by using the testing feature data (`X_test`) and the fitted model.\n",
    "\n",
    "3. Evaluate the model’s performance by doing the following:\n",
    "\n",
    "    * Calculate the accuracy score of the model.\n",
    "\n",
    "    * Generate a confusion matrix.\n",
    "\n",
    "    * Print the classification report.\n",
    "\n",
    "4. Answer the following question: How well does the logistic regression model predict both the `0` (healthy loan) and `1` (high-risk loan) labels?\n",
    "\n",
    "### Predict a Logistic Regression Model with Resampled Training Data\n",
    "\n",
    "Did you notice the small number of high-risk loan labels? Perhaps, a model that uses resampled data will perform better. You’ll thus resample the training data and then reevaluate the model. Specifically, you’ll use `RandomOverSampler`.\n",
    "\n",
    "To do so, complete the following steps:\n",
    "\n",
    "1. Use the `RandomOverSampler` module from the imbalanced-learn library to resample the data. Be sure to confirm that the labels have an equal number of data points. \n",
    "\n",
    "2. Use the `LogisticRegression` classifier and the resampled data to fit the model and make predictions.\n",
    "\n",
    "3. Evaluate the model’s performance by doing the following:\n",
    "\n",
    "    * Calculate the accuracy score of the model.\n",
    "\n",
    "    * Generate a confusion matrix.\n",
    "\n",
    "    * Print the classification report.\n",
    "    \n",
    "4. Answer the following question: How well does the logistic regression model, fit with oversampled data, predict both the `0` (healthy loan) and `1` (high-risk loan) labels?\n",
    "\n",
    "### Write a Credit Risk Analysis Report\n",
    "\n",
    "For this section, you’ll write a brief report that includes a summary and an analysis of the performance of both machine learning models that you used in this challenge. You should write this report as the `README.md` file included in your GitHub repository.\n",
    "\n",
    "Structure your report by using the report template that `Starter_Code.zip` includes, and make sure that it contains the following:\n",
    "\n",
    "1. An overview of the analysis: Explain the purpose of this analysis.\n",
    "\n",
    "\n",
    "2. The results: Using bulleted lists, describe the balanced accuracy scores and the precision and recall scores of both machine learning models.\n",
    "\n",
    "3. A summary: Summarize the results from the machine learning models. Compare the two versions of the dataset predictions. Include your recommendation for the model to use, if any, on the original vs. the resampled data. If you don’t recommend either model, justify your reasoning."
   ]
  },
  {
   "cell_type": "code",
   "execution_count": 1,
   "metadata": {},
   "outputs": [],
   "source": [
    "# Import the modules\n",
    "import numpy as np\n",
    "import pandas as pd\n",
    "from pathlib import Path\n",
    "from sklearn.metrics import balanced_accuracy_score\n",
    "from sklearn.metrics import confusion_matrix\n",
    "from imblearn.metrics import classification_report_imbalanced\n",
    "\n",
    "import warnings\n",
    "warnings.filterwarnings('ignore')"
   ]
  },
  {
   "cell_type": "markdown",
   "metadata": {},
   "source": [
    "---"
   ]
  },
  {
   "cell_type": "markdown",
   "metadata": {},
   "source": [
    "## Split the Data into Training and Testing Sets"
   ]
  },
  {
   "cell_type": "markdown",
   "metadata": {},
   "source": [
    "### Step 1: Read the `lending_data.csv` data from the `Resources` folder into a Pandas DataFrame."
   ]
  },
  {
   "cell_type": "code",
   "execution_count": 2,
   "metadata": {},
   "outputs": [
    {
     "data": {
      "text/html": [
       "<div>\n",
       "<style scoped>\n",
       "    .dataframe tbody tr th:only-of-type {\n",
       "        vertical-align: middle;\n",
       "    }\n",
       "\n",
       "    .dataframe tbody tr th {\n",
       "        vertical-align: top;\n",
       "    }\n",
       "\n",
       "    .dataframe thead th {\n",
       "        text-align: right;\n",
       "    }\n",
       "</style>\n",
       "<table border=\"1\" class=\"dataframe\">\n",
       "  <thead>\n",
       "    <tr style=\"text-align: right;\">\n",
       "      <th></th>\n",
       "      <th>loan_size</th>\n",
       "      <th>interest_rate</th>\n",
       "      <th>borrower_income</th>\n",
       "      <th>debt_to_income</th>\n",
       "      <th>num_of_accounts</th>\n",
       "      <th>derogatory_marks</th>\n",
       "      <th>total_debt</th>\n",
       "      <th>loan_status</th>\n",
       "    </tr>\n",
       "  </thead>\n",
       "  <tbody>\n",
       "    <tr>\n",
       "      <th>0</th>\n",
       "      <td>10700.0</td>\n",
       "      <td>7.672</td>\n",
       "      <td>52800</td>\n",
       "      <td>0.431818</td>\n",
       "      <td>5</td>\n",
       "      <td>1</td>\n",
       "      <td>22800</td>\n",
       "      <td>0</td>\n",
       "    </tr>\n",
       "    <tr>\n",
       "      <th>1</th>\n",
       "      <td>8400.0</td>\n",
       "      <td>6.692</td>\n",
       "      <td>43600</td>\n",
       "      <td>0.311927</td>\n",
       "      <td>3</td>\n",
       "      <td>0</td>\n",
       "      <td>13600</td>\n",
       "      <td>0</td>\n",
       "    </tr>\n",
       "    <tr>\n",
       "      <th>2</th>\n",
       "      <td>9000.0</td>\n",
       "      <td>6.963</td>\n",
       "      <td>46100</td>\n",
       "      <td>0.349241</td>\n",
       "      <td>3</td>\n",
       "      <td>0</td>\n",
       "      <td>16100</td>\n",
       "      <td>0</td>\n",
       "    </tr>\n",
       "    <tr>\n",
       "      <th>3</th>\n",
       "      <td>10700.0</td>\n",
       "      <td>7.664</td>\n",
       "      <td>52700</td>\n",
       "      <td>0.430740</td>\n",
       "      <td>5</td>\n",
       "      <td>1</td>\n",
       "      <td>22700</td>\n",
       "      <td>0</td>\n",
       "    </tr>\n",
       "    <tr>\n",
       "      <th>4</th>\n",
       "      <td>10800.0</td>\n",
       "      <td>7.698</td>\n",
       "      <td>53000</td>\n",
       "      <td>0.433962</td>\n",
       "      <td>5</td>\n",
       "      <td>1</td>\n",
       "      <td>23000</td>\n",
       "      <td>0</td>\n",
       "    </tr>\n",
       "  </tbody>\n",
       "</table>\n",
       "</div>"
      ],
      "text/plain": [
       "   loan_size  interest_rate  borrower_income  debt_to_income  num_of_accounts  \\\n",
       "0    10700.0          7.672            52800        0.431818                5   \n",
       "1     8400.0          6.692            43600        0.311927                3   \n",
       "2     9000.0          6.963            46100        0.349241                3   \n",
       "3    10700.0          7.664            52700        0.430740                5   \n",
       "4    10800.0          7.698            53000        0.433962                5   \n",
       "\n",
       "   derogatory_marks  total_debt  loan_status  \n",
       "0                 1       22800            0  \n",
       "1                 0       13600            0  \n",
       "2                 0       16100            0  \n",
       "3                 1       22700            0  \n",
       "4                 1       23000            0  "
      ]
     },
     "execution_count": 2,
     "metadata": {},
     "output_type": "execute_result"
    }
   ],
   "source": [
    "# Read the CSV file from the Resources folder into a Pandas DataFrame\n",
    "lending_data = pd.read_csv(\"./Resources/lending_data.csv\")\n",
    "# Review the DataFrame\n",
    "lending_data.head()\n",
    "# lending_data.tail()"
   ]
  },
  {
   "cell_type": "raw",
   "metadata": {},
   "source": [
    "generally, 3 different ways to select data from a dataframe\n",
    "1. iloc, <- i means youre locating by the index\n",
    "2. loc <- means you're locating be the name\n",
    "3. column selection\n",
    "\n",
    "format iloc:\n",
    "df.iloc[row, column] inside the square brakcet is how you select the row and column seperated by a comma\n",
    "[row, cols] also use python slice notation\n",
    "[row] if you only pass one value, it only does the row\n"
   ]
  },
  {
   "cell_type": "code",
   "execution_count": 3,
   "metadata": {},
   "outputs": [
    {
     "data": {
      "text/plain": [
       "loan_size           10700.000000\n",
       "interest_rate           7.672000\n",
       "borrower_income     52800.000000\n",
       "debt_to_income          0.431818\n",
       "num_of_accounts         5.000000\n",
       "derogatory_marks        1.000000\n",
       "total_debt          22800.000000\n",
       "loan_status             0.000000\n",
       "Name: 0, dtype: float64"
      ]
     },
     "execution_count": 3,
     "metadata": {},
     "output_type": "execute_result"
    }
   ],
   "source": [
    "# selecting first row with iloc\n",
    "lending_data.iloc[0]"
   ]
  },
  {
   "cell_type": "code",
   "execution_count": 4,
   "metadata": {},
   "outputs": [
    {
     "data": {
      "text/plain": [
       "loan_size           10700.000000\n",
       "interest_rate           7.672000\n",
       "borrower_income     52800.000000\n",
       "debt_to_income          0.431818\n",
       "num_of_accounts         5.000000\n",
       "derogatory_marks        1.000000\n",
       "total_debt          22800.000000\n",
       "loan_status             0.000000\n",
       "Name: 0, dtype: float64"
      ]
     },
     "execution_count": 4,
     "metadata": {},
     "output_type": "execute_result"
    }
   ],
   "source": [
    "lending_data.loc[0]"
   ]
  },
  {
   "cell_type": "code",
   "execution_count": 5,
   "metadata": {},
   "outputs": [
    {
     "data": {
      "text/plain": [
       "0.431818181818182"
      ]
     },
     "execution_count": 5,
     "metadata": {},
     "output_type": "execute_result"
    }
   ],
   "source": [
    "# select debt_to_income column, first row\n",
    "lending_data.iloc[0,3]"
   ]
  },
  {
   "cell_type": "code",
   "execution_count": 6,
   "metadata": {},
   "outputs": [
    {
     "data": {
      "text/plain": [
       "0.431818181818182"
      ]
     },
     "execution_count": 6,
     "metadata": {},
     "output_type": "execute_result"
    }
   ],
   "source": [
    "lending_data.loc[0,\"debt_to_income\"]"
   ]
  },
  {
   "cell_type": "code",
   "execution_count": 7,
   "metadata": {},
   "outputs": [
    {
     "data": {
      "text/plain": [
       "'acegjk'"
      ]
     },
     "execution_count": 7,
     "metadata": {},
     "output_type": "execute_result"
    }
   ],
   "source": [
    "# slicing all rows for loan_size and interest_rate\n",
    "# slice notation, gets elements by index\n",
    "#slicable things are df, string, list\n",
    "#format: string[start:stop:step] #default start = 0. stop = -1 (end of string or list), step = 1\n",
    "# string[0], <- select element by that index\n",
    "# string[:5] <- slice everything from 0 to 5\n",
    "# stop number, UPTO BUT NOT INCLUDING\n",
    "string1 = \"abcdefghjikl\"\n",
    "string1[3]\n",
    "string1[:5]\n",
    "string1[::2] #every other element for step = 2, 0, 2, 4, 6 8"
   ]
  },
  {
   "cell_type": "code",
   "execution_count": 8,
   "metadata": {},
   "outputs": [
    {
     "data": {
      "text/plain": [
       "'l'"
      ]
     },
     "execution_count": 8,
     "metadata": {},
     "output_type": "execute_result"
    }
   ],
   "source": [
    "string1[-1] #shows you the last eleement"
   ]
  },
  {
   "cell_type": "code",
   "execution_count": 9,
   "metadata": {},
   "outputs": [
    {
     "data": {
      "text/plain": [
       "'lkijhgfedcba'"
      ]
     },
     "execution_count": 9,
     "metadata": {},
     "output_type": "execute_result"
    }
   ],
   "source": [
    "# how to do reverse a string?\n",
    "string1[::-1]"
   ]
  },
  {
   "cell_type": "code",
   "execution_count": 10,
   "metadata": {},
   "outputs": [
    {
     "data": {
      "text/plain": [
       "'lihfdb'"
      ]
     },
     "execution_count": 10,
     "metadata": {},
     "output_type": "execute_result"
    }
   ],
   "source": [
    "string1[::-2]"
   ]
  },
  {
   "cell_type": "code",
   "execution_count": 11,
   "metadata": {},
   "outputs": [
    {
     "data": {
      "text/html": [
       "<div>\n",
       "<style scoped>\n",
       "    .dataframe tbody tr th:only-of-type {\n",
       "        vertical-align: middle;\n",
       "    }\n",
       "\n",
       "    .dataframe tbody tr th {\n",
       "        vertical-align: top;\n",
       "    }\n",
       "\n",
       "    .dataframe thead th {\n",
       "        text-align: right;\n",
       "    }\n",
       "</style>\n",
       "<table border=\"1\" class=\"dataframe\">\n",
       "  <thead>\n",
       "    <tr style=\"text-align: right;\">\n",
       "      <th></th>\n",
       "      <th>loan_size</th>\n",
       "      <th>interest_rate</th>\n",
       "      <th>borrower_income</th>\n",
       "      <th>debt_to_income</th>\n",
       "      <th>num_of_accounts</th>\n",
       "      <th>derogatory_marks</th>\n",
       "      <th>total_debt</th>\n",
       "      <th>loan_status</th>\n",
       "    </tr>\n",
       "  </thead>\n",
       "  <tbody>\n",
       "    <tr>\n",
       "      <th>0</th>\n",
       "      <td>10700.0</td>\n",
       "      <td>7.672</td>\n",
       "      <td>52800</td>\n",
       "      <td>0.431818</td>\n",
       "      <td>5</td>\n",
       "      <td>1</td>\n",
       "      <td>22800</td>\n",
       "      <td>0</td>\n",
       "    </tr>\n",
       "    <tr>\n",
       "      <th>1</th>\n",
       "      <td>8400.0</td>\n",
       "      <td>6.692</td>\n",
       "      <td>43600</td>\n",
       "      <td>0.311927</td>\n",
       "      <td>3</td>\n",
       "      <td>0</td>\n",
       "      <td>13600</td>\n",
       "      <td>0</td>\n",
       "    </tr>\n",
       "    <tr>\n",
       "      <th>2</th>\n",
       "      <td>9000.0</td>\n",
       "      <td>6.963</td>\n",
       "      <td>46100</td>\n",
       "      <td>0.349241</td>\n",
       "      <td>3</td>\n",
       "      <td>0</td>\n",
       "      <td>16100</td>\n",
       "      <td>0</td>\n",
       "    </tr>\n",
       "    <tr>\n",
       "      <th>3</th>\n",
       "      <td>10700.0</td>\n",
       "      <td>7.664</td>\n",
       "      <td>52700</td>\n",
       "      <td>0.430740</td>\n",
       "      <td>5</td>\n",
       "      <td>1</td>\n",
       "      <td>22700</td>\n",
       "      <td>0</td>\n",
       "    </tr>\n",
       "    <tr>\n",
       "      <th>4</th>\n",
       "      <td>10800.0</td>\n",
       "      <td>7.698</td>\n",
       "      <td>53000</td>\n",
       "      <td>0.433962</td>\n",
       "      <td>5</td>\n",
       "      <td>1</td>\n",
       "      <td>23000</td>\n",
       "      <td>0</td>\n",
       "    </tr>\n",
       "  </tbody>\n",
       "</table>\n",
       "</div>"
      ],
      "text/plain": [
       "   loan_size  interest_rate  borrower_income  debt_to_income  num_of_accounts  \\\n",
       "0    10700.0          7.672            52800        0.431818                5   \n",
       "1     8400.0          6.692            43600        0.311927                3   \n",
       "2     9000.0          6.963            46100        0.349241                3   \n",
       "3    10700.0          7.664            52700        0.430740                5   \n",
       "4    10800.0          7.698            53000        0.433962                5   \n",
       "\n",
       "   derogatory_marks  total_debt  loan_status  \n",
       "0                 1       22800            0  \n",
       "1                 0       13600            0  \n",
       "2                 0       16100            0  \n",
       "3                 1       22700            0  \n",
       "4                 1       23000            0  "
      ]
     },
     "execution_count": 11,
     "metadata": {},
     "output_type": "execute_result"
    }
   ],
   "source": [
    "lending_data.head()"
   ]
  },
  {
   "cell_type": "code",
   "execution_count": 12,
   "metadata": {},
   "outputs": [
    {
     "data": {
      "text/plain": [
       "0        10700.0\n",
       "1         8400.0\n",
       "2         9000.0\n",
       "3        10700.0\n",
       "4        10800.0\n",
       "          ...   \n",
       "77531    19100.0\n",
       "77532    17700.0\n",
       "77533    17600.0\n",
       "77534    16300.0\n",
       "77535    15600.0\n",
       "Name: loan_size, Length: 77536, dtype: float64"
      ]
     },
     "execution_count": 12,
     "metadata": {},
     "output_type": "execute_result"
    }
   ],
   "source": [
    "#select all rows in the first column\n",
    "lending_data.iloc[:,0]"
   ]
  },
  {
   "cell_type": "code",
   "execution_count": 13,
   "metadata": {},
   "outputs": [
    {
     "data": {
      "text/html": [
       "<div>\n",
       "<style scoped>\n",
       "    .dataframe tbody tr th:only-of-type {\n",
       "        vertical-align: middle;\n",
       "    }\n",
       "\n",
       "    .dataframe tbody tr th {\n",
       "        vertical-align: top;\n",
       "    }\n",
       "\n",
       "    .dataframe thead th {\n",
       "        text-align: right;\n",
       "    }\n",
       "</style>\n",
       "<table border=\"1\" class=\"dataframe\">\n",
       "  <thead>\n",
       "    <tr style=\"text-align: right;\">\n",
       "      <th></th>\n",
       "      <th>loan_size</th>\n",
       "      <th>interest_rate</th>\n",
       "    </tr>\n",
       "  </thead>\n",
       "  <tbody>\n",
       "    <tr>\n",
       "      <th>0</th>\n",
       "      <td>10700.0</td>\n",
       "      <td>7.672</td>\n",
       "    </tr>\n",
       "    <tr>\n",
       "      <th>1</th>\n",
       "      <td>8400.0</td>\n",
       "      <td>6.692</td>\n",
       "    </tr>\n",
       "    <tr>\n",
       "      <th>2</th>\n",
       "      <td>9000.0</td>\n",
       "      <td>6.963</td>\n",
       "    </tr>\n",
       "    <tr>\n",
       "      <th>3</th>\n",
       "      <td>10700.0</td>\n",
       "      <td>7.664</td>\n",
       "    </tr>\n",
       "    <tr>\n",
       "      <th>4</th>\n",
       "      <td>10800.0</td>\n",
       "      <td>7.698</td>\n",
       "    </tr>\n",
       "    <tr>\n",
       "      <th>...</th>\n",
       "      <td>...</td>\n",
       "      <td>...</td>\n",
       "    </tr>\n",
       "    <tr>\n",
       "      <th>77531</th>\n",
       "      <td>19100.0</td>\n",
       "      <td>11.261</td>\n",
       "    </tr>\n",
       "    <tr>\n",
       "      <th>77532</th>\n",
       "      <td>17700.0</td>\n",
       "      <td>10.662</td>\n",
       "    </tr>\n",
       "    <tr>\n",
       "      <th>77533</th>\n",
       "      <td>17600.0</td>\n",
       "      <td>10.595</td>\n",
       "    </tr>\n",
       "    <tr>\n",
       "      <th>77534</th>\n",
       "      <td>16300.0</td>\n",
       "      <td>10.068</td>\n",
       "    </tr>\n",
       "    <tr>\n",
       "      <th>77535</th>\n",
       "      <td>15600.0</td>\n",
       "      <td>9.742</td>\n",
       "    </tr>\n",
       "  </tbody>\n",
       "</table>\n",
       "<p>77536 rows × 2 columns</p>\n",
       "</div>"
      ],
      "text/plain": [
       "       loan_size  interest_rate\n",
       "0        10700.0          7.672\n",
       "1         8400.0          6.692\n",
       "2         9000.0          6.963\n",
       "3        10700.0          7.664\n",
       "4        10800.0          7.698\n",
       "...          ...            ...\n",
       "77531    19100.0         11.261\n",
       "77532    17700.0         10.662\n",
       "77533    17600.0         10.595\n",
       "77534    16300.0         10.068\n",
       "77535    15600.0          9.742\n",
       "\n",
       "[77536 rows x 2 columns]"
      ]
     },
     "execution_count": 13,
     "metadata": {},
     "output_type": "execute_result"
    }
   ],
   "source": [
    "lending_data.iloc[:,[0,1]] #col = [0,1,2]"
   ]
  },
  {
   "cell_type": "code",
   "execution_count": 14,
   "metadata": {},
   "outputs": [
    {
     "data": {
      "text/html": [
       "<div>\n",
       "<style scoped>\n",
       "    .dataframe tbody tr th:only-of-type {\n",
       "        vertical-align: middle;\n",
       "    }\n",
       "\n",
       "    .dataframe tbody tr th {\n",
       "        vertical-align: top;\n",
       "    }\n",
       "\n",
       "    .dataframe thead th {\n",
       "        text-align: right;\n",
       "    }\n",
       "</style>\n",
       "<table border=\"1\" class=\"dataframe\">\n",
       "  <thead>\n",
       "    <tr style=\"text-align: right;\">\n",
       "      <th></th>\n",
       "      <th>loan_size</th>\n",
       "      <th>interest_rate</th>\n",
       "    </tr>\n",
       "  </thead>\n",
       "  <tbody>\n",
       "    <tr>\n",
       "      <th>0</th>\n",
       "      <td>10700.0</td>\n",
       "      <td>7.672</td>\n",
       "    </tr>\n",
       "    <tr>\n",
       "      <th>1</th>\n",
       "      <td>8400.0</td>\n",
       "      <td>6.692</td>\n",
       "    </tr>\n",
       "    <tr>\n",
       "      <th>2</th>\n",
       "      <td>9000.0</td>\n",
       "      <td>6.963</td>\n",
       "    </tr>\n",
       "    <tr>\n",
       "      <th>3</th>\n",
       "      <td>10700.0</td>\n",
       "      <td>7.664</td>\n",
       "    </tr>\n",
       "    <tr>\n",
       "      <th>4</th>\n",
       "      <td>10800.0</td>\n",
       "      <td>7.698</td>\n",
       "    </tr>\n",
       "    <tr>\n",
       "      <th>...</th>\n",
       "      <td>...</td>\n",
       "      <td>...</td>\n",
       "    </tr>\n",
       "    <tr>\n",
       "      <th>77531</th>\n",
       "      <td>19100.0</td>\n",
       "      <td>11.261</td>\n",
       "    </tr>\n",
       "    <tr>\n",
       "      <th>77532</th>\n",
       "      <td>17700.0</td>\n",
       "      <td>10.662</td>\n",
       "    </tr>\n",
       "    <tr>\n",
       "      <th>77533</th>\n",
       "      <td>17600.0</td>\n",
       "      <td>10.595</td>\n",
       "    </tr>\n",
       "    <tr>\n",
       "      <th>77534</th>\n",
       "      <td>16300.0</td>\n",
       "      <td>10.068</td>\n",
       "    </tr>\n",
       "    <tr>\n",
       "      <th>77535</th>\n",
       "      <td>15600.0</td>\n",
       "      <td>9.742</td>\n",
       "    </tr>\n",
       "  </tbody>\n",
       "</table>\n",
       "<p>77536 rows × 2 columns</p>\n",
       "</div>"
      ],
      "text/plain": [
       "       loan_size  interest_rate\n",
       "0        10700.0          7.672\n",
       "1         8400.0          6.692\n",
       "2         9000.0          6.963\n",
       "3        10700.0          7.664\n",
       "4        10800.0          7.698\n",
       "...          ...            ...\n",
       "77531    19100.0         11.261\n",
       "77532    17700.0         10.662\n",
       "77533    17600.0         10.595\n",
       "77534    16300.0         10.068\n",
       "77535    15600.0          9.742\n",
       "\n",
       "[77536 rows x 2 columns]"
      ]
     },
     "execution_count": 14,
     "metadata": {},
     "output_type": "execute_result"
    }
   ],
   "source": [
    "lending_data.iloc[:,0:2] "
   ]
  },
  {
   "cell_type": "code",
   "execution_count": 15,
   "metadata": {},
   "outputs": [
    {
     "data": {
      "text/html": [
       "<div>\n",
       "<style scoped>\n",
       "    .dataframe tbody tr th:only-of-type {\n",
       "        vertical-align: middle;\n",
       "    }\n",
       "\n",
       "    .dataframe tbody tr th {\n",
       "        vertical-align: top;\n",
       "    }\n",
       "\n",
       "    .dataframe thead th {\n",
       "        text-align: right;\n",
       "    }\n",
       "</style>\n",
       "<table border=\"1\" class=\"dataframe\">\n",
       "  <thead>\n",
       "    <tr style=\"text-align: right;\">\n",
       "      <th></th>\n",
       "      <th>loan_size</th>\n",
       "      <th>interest_rate</th>\n",
       "      <th>borrower_income</th>\n",
       "      <th>debt_to_income</th>\n",
       "      <th>num_of_accounts</th>\n",
       "    </tr>\n",
       "  </thead>\n",
       "  <tbody>\n",
       "    <tr>\n",
       "      <th>10</th>\n",
       "      <td>9300.0</td>\n",
       "      <td>7.085</td>\n",
       "      <td>47300</td>\n",
       "      <td>0.365751</td>\n",
       "      <td>3</td>\n",
       "    </tr>\n",
       "    <tr>\n",
       "      <th>11</th>\n",
       "      <td>9200.0</td>\n",
       "      <td>7.015</td>\n",
       "      <td>46600</td>\n",
       "      <td>0.356223</td>\n",
       "      <td>3</td>\n",
       "    </tr>\n",
       "    <tr>\n",
       "      <th>12</th>\n",
       "      <td>9200.0</td>\n",
       "      <td>7.043</td>\n",
       "      <td>46900</td>\n",
       "      <td>0.360341</td>\n",
       "      <td>3</td>\n",
       "    </tr>\n",
       "    <tr>\n",
       "      <th>13</th>\n",
       "      <td>9400.0</td>\n",
       "      <td>7.101</td>\n",
       "      <td>47400</td>\n",
       "      <td>0.367089</td>\n",
       "      <td>3</td>\n",
       "    </tr>\n",
       "    <tr>\n",
       "      <th>14</th>\n",
       "      <td>8400.0</td>\n",
       "      <td>6.703</td>\n",
       "      <td>43700</td>\n",
       "      <td>0.313501</td>\n",
       "      <td>3</td>\n",
       "    </tr>\n",
       "    <tr>\n",
       "      <th>15</th>\n",
       "      <td>9400.0</td>\n",
       "      <td>7.136</td>\n",
       "      <td>47700</td>\n",
       "      <td>0.371069</td>\n",
       "      <td>3</td>\n",
       "    </tr>\n",
       "    <tr>\n",
       "      <th>16</th>\n",
       "      <td>8900.0</td>\n",
       "      <td>6.897</td>\n",
       "      <td>45500</td>\n",
       "      <td>0.340659</td>\n",
       "      <td>3</td>\n",
       "    </tr>\n",
       "    <tr>\n",
       "      <th>17</th>\n",
       "      <td>8300.0</td>\n",
       "      <td>6.648</td>\n",
       "      <td>43200</td>\n",
       "      <td>0.305556</td>\n",
       "      <td>2</td>\n",
       "    </tr>\n",
       "    <tr>\n",
       "      <th>18</th>\n",
       "      <td>8000.0</td>\n",
       "      <td>6.539</td>\n",
       "      <td>42100</td>\n",
       "      <td>0.287411</td>\n",
       "      <td>2</td>\n",
       "    </tr>\n",
       "    <tr>\n",
       "      <th>19</th>\n",
       "      <td>10200.0</td>\n",
       "      <td>7.460</td>\n",
       "      <td>50800</td>\n",
       "      <td>0.409449</td>\n",
       "      <td>4</td>\n",
       "    </tr>\n",
       "  </tbody>\n",
       "</table>\n",
       "</div>"
      ],
      "text/plain": [
       "    loan_size  interest_rate  borrower_income  debt_to_income  num_of_accounts\n",
       "10     9300.0          7.085            47300        0.365751                3\n",
       "11     9200.0          7.015            46600        0.356223                3\n",
       "12     9200.0          7.043            46900        0.360341                3\n",
       "13     9400.0          7.101            47400        0.367089                3\n",
       "14     8400.0          6.703            43700        0.313501                3\n",
       "15     9400.0          7.136            47700        0.371069                3\n",
       "16     8900.0          6.897            45500        0.340659                3\n",
       "17     8300.0          6.648            43200        0.305556                2\n",
       "18     8000.0          6.539            42100        0.287411                2\n",
       "19    10200.0          7.460            50800        0.409449                4"
      ]
     },
     "execution_count": 15,
     "metadata": {},
     "output_type": "execute_result"
    }
   ],
   "source": [
    "lending_data.iloc[10:20,0:5]"
   ]
  },
  {
   "cell_type": "code",
   "execution_count": 16,
   "metadata": {},
   "outputs": [
    {
     "data": {
      "text/html": [
       "<div>\n",
       "<style scoped>\n",
       "    .dataframe tbody tr th:only-of-type {\n",
       "        vertical-align: middle;\n",
       "    }\n",
       "\n",
       "    .dataframe tbody tr th {\n",
       "        vertical-align: top;\n",
       "    }\n",
       "\n",
       "    .dataframe thead th {\n",
       "        text-align: right;\n",
       "    }\n",
       "</style>\n",
       "<table border=\"1\" class=\"dataframe\">\n",
       "  <thead>\n",
       "    <tr style=\"text-align: right;\">\n",
       "      <th></th>\n",
       "      <th>loan_size</th>\n",
       "      <th>num_of_accounts</th>\n",
       "    </tr>\n",
       "  </thead>\n",
       "  <tbody>\n",
       "    <tr>\n",
       "      <th>0</th>\n",
       "      <td>10700.0</td>\n",
       "      <td>5</td>\n",
       "    </tr>\n",
       "    <tr>\n",
       "      <th>1</th>\n",
       "      <td>8400.0</td>\n",
       "      <td>3</td>\n",
       "    </tr>\n",
       "    <tr>\n",
       "      <th>2</th>\n",
       "      <td>9000.0</td>\n",
       "      <td>3</td>\n",
       "    </tr>\n",
       "    <tr>\n",
       "      <th>3</th>\n",
       "      <td>10700.0</td>\n",
       "      <td>5</td>\n",
       "    </tr>\n",
       "    <tr>\n",
       "      <th>4</th>\n",
       "      <td>10800.0</td>\n",
       "      <td>5</td>\n",
       "    </tr>\n",
       "    <tr>\n",
       "      <th>...</th>\n",
       "      <td>...</td>\n",
       "      <td>...</td>\n",
       "    </tr>\n",
       "    <tr>\n",
       "      <th>77531</th>\n",
       "      <td>19100.0</td>\n",
       "      <td>12</td>\n",
       "    </tr>\n",
       "    <tr>\n",
       "      <th>77532</th>\n",
       "      <td>17700.0</td>\n",
       "      <td>11</td>\n",
       "    </tr>\n",
       "    <tr>\n",
       "      <th>77533</th>\n",
       "      <td>17600.0</td>\n",
       "      <td>11</td>\n",
       "    </tr>\n",
       "    <tr>\n",
       "      <th>77534</th>\n",
       "      <td>16300.0</td>\n",
       "      <td>10</td>\n",
       "    </tr>\n",
       "    <tr>\n",
       "      <th>77535</th>\n",
       "      <td>15600.0</td>\n",
       "      <td>9</td>\n",
       "    </tr>\n",
       "  </tbody>\n",
       "</table>\n",
       "<p>77536 rows × 2 columns</p>\n",
       "</div>"
      ],
      "text/plain": [
       "       loan_size  num_of_accounts\n",
       "0        10700.0                5\n",
       "1         8400.0                3\n",
       "2         9000.0                3\n",
       "3        10700.0                5\n",
       "4        10800.0                5\n",
       "...          ...              ...\n",
       "77531    19100.0               12\n",
       "77532    17700.0               11\n",
       "77533    17600.0               11\n",
       "77534    16300.0               10\n",
       "77535    15600.0                9\n",
       "\n",
       "[77536 rows x 2 columns]"
      ]
     },
     "execution_count": 16,
     "metadata": {},
     "output_type": "execute_result"
    }
   ],
   "source": [
    "lending_data.loc[:,[\"loan_size\",\"num_of_accounts\"]]"
   ]
  },
  {
   "cell_type": "code",
   "execution_count": 17,
   "metadata": {},
   "outputs": [],
   "source": [
    "# use iloc when  for time series yesterdays stock data is at the bottom of the dataframe,\n",
    "# if you used LOC, then you have to figure out the date of the index before you can select the data\n",
    "#  easier to select last element with iloc[-1]\n",
    "\n",
    "# use loc when you just know the name or easier to select by the name"
   ]
  },
  {
   "cell_type": "code",
   "execution_count": null,
   "metadata": {},
   "outputs": [],
   "source": []
  },
  {
   "cell_type": "code",
   "execution_count": null,
   "metadata": {},
   "outputs": [],
   "source": []
  },
  {
   "cell_type": "code",
   "execution_count": null,
   "metadata": {},
   "outputs": [],
   "source": []
  },
  {
   "cell_type": "code",
   "execution_count": null,
   "metadata": {},
   "outputs": [],
   "source": []
  },
  {
   "cell_type": "code",
   "execution_count": null,
   "metadata": {},
   "outputs": [],
   "source": []
  },
  {
   "cell_type": "code",
   "execution_count": null,
   "metadata": {},
   "outputs": [],
   "source": []
  },
  {
   "cell_type": "markdown",
   "metadata": {},
   "source": [
    "### Step 2: Create the labels set (`y`)  from the “loan_status” column, and then create the features (`X`) DataFrame from the remaining columns."
   ]
  },
  {
   "cell_type": "code",
   "execution_count": 18,
   "metadata": {},
   "outputs": [],
   "source": [
    "# Separate the data into labels and features\n",
    "\n",
    "# Separate the y variable, the labels\n",
    "y=lending_data.loc[:,[\"loan_size\"]]\n",
    "\n",
    "# Separate the X variable, the features\n",
    "x = lending_data.drop(columns=[\"loan_size\"])"
   ]
  },
  {
   "cell_type": "code",
   "execution_count": 19,
   "metadata": {},
   "outputs": [
    {
     "data": {
      "text/html": [
       "<div>\n",
       "<style scoped>\n",
       "    .dataframe tbody tr th:only-of-type {\n",
       "        vertical-align: middle;\n",
       "    }\n",
       "\n",
       "    .dataframe tbody tr th {\n",
       "        vertical-align: top;\n",
       "    }\n",
       "\n",
       "    .dataframe thead th {\n",
       "        text-align: right;\n",
       "    }\n",
       "</style>\n",
       "<table border=\"1\" class=\"dataframe\">\n",
       "  <thead>\n",
       "    <tr style=\"text-align: right;\">\n",
       "      <th></th>\n",
       "      <th>loan_size</th>\n",
       "    </tr>\n",
       "  </thead>\n",
       "  <tbody>\n",
       "    <tr>\n",
       "      <th>0</th>\n",
       "      <td>10700.0</td>\n",
       "    </tr>\n",
       "    <tr>\n",
       "      <th>1</th>\n",
       "      <td>8400.0</td>\n",
       "    </tr>\n",
       "    <tr>\n",
       "      <th>2</th>\n",
       "      <td>9000.0</td>\n",
       "    </tr>\n",
       "    <tr>\n",
       "      <th>3</th>\n",
       "      <td>10700.0</td>\n",
       "    </tr>\n",
       "    <tr>\n",
       "      <th>4</th>\n",
       "      <td>10800.0</td>\n",
       "    </tr>\n",
       "    <tr>\n",
       "      <th>...</th>\n",
       "      <td>...</td>\n",
       "    </tr>\n",
       "    <tr>\n",
       "      <th>77531</th>\n",
       "      <td>19100.0</td>\n",
       "    </tr>\n",
       "    <tr>\n",
       "      <th>77532</th>\n",
       "      <td>17700.0</td>\n",
       "    </tr>\n",
       "    <tr>\n",
       "      <th>77533</th>\n",
       "      <td>17600.0</td>\n",
       "    </tr>\n",
       "    <tr>\n",
       "      <th>77534</th>\n",
       "      <td>16300.0</td>\n",
       "    </tr>\n",
       "    <tr>\n",
       "      <th>77535</th>\n",
       "      <td>15600.0</td>\n",
       "    </tr>\n",
       "  </tbody>\n",
       "</table>\n",
       "<p>77536 rows × 1 columns</p>\n",
       "</div>"
      ],
      "text/plain": [
       "       loan_size\n",
       "0        10700.0\n",
       "1         8400.0\n",
       "2         9000.0\n",
       "3        10700.0\n",
       "4        10800.0\n",
       "...          ...\n",
       "77531    19100.0\n",
       "77532    17700.0\n",
       "77533    17600.0\n",
       "77534    16300.0\n",
       "77535    15600.0\n",
       "\n",
       "[77536 rows x 1 columns]"
      ]
     },
     "execution_count": 19,
     "metadata": {},
     "output_type": "execute_result"
    }
   ],
   "source": [
    "# Review the y variable Series\n",
    "y"
   ]
  },
  {
   "cell_type": "code",
   "execution_count": 20,
   "metadata": {},
   "outputs": [
    {
     "data": {
      "text/html": [
       "<div>\n",
       "<style scoped>\n",
       "    .dataframe tbody tr th:only-of-type {\n",
       "        vertical-align: middle;\n",
       "    }\n",
       "\n",
       "    .dataframe tbody tr th {\n",
       "        vertical-align: top;\n",
       "    }\n",
       "\n",
       "    .dataframe thead th {\n",
       "        text-align: right;\n",
       "    }\n",
       "</style>\n",
       "<table border=\"1\" class=\"dataframe\">\n",
       "  <thead>\n",
       "    <tr style=\"text-align: right;\">\n",
       "      <th></th>\n",
       "      <th>interest_rate</th>\n",
       "      <th>borrower_income</th>\n",
       "      <th>debt_to_income</th>\n",
       "      <th>num_of_accounts</th>\n",
       "      <th>derogatory_marks</th>\n",
       "      <th>total_debt</th>\n",
       "      <th>loan_status</th>\n",
       "    </tr>\n",
       "  </thead>\n",
       "  <tbody>\n",
       "    <tr>\n",
       "      <th>0</th>\n",
       "      <td>7.672</td>\n",
       "      <td>52800</td>\n",
       "      <td>0.431818</td>\n",
       "      <td>5</td>\n",
       "      <td>1</td>\n",
       "      <td>22800</td>\n",
       "      <td>0</td>\n",
       "    </tr>\n",
       "    <tr>\n",
       "      <th>1</th>\n",
       "      <td>6.692</td>\n",
       "      <td>43600</td>\n",
       "      <td>0.311927</td>\n",
       "      <td>3</td>\n",
       "      <td>0</td>\n",
       "      <td>13600</td>\n",
       "      <td>0</td>\n",
       "    </tr>\n",
       "    <tr>\n",
       "      <th>2</th>\n",
       "      <td>6.963</td>\n",
       "      <td>46100</td>\n",
       "      <td>0.349241</td>\n",
       "      <td>3</td>\n",
       "      <td>0</td>\n",
       "      <td>16100</td>\n",
       "      <td>0</td>\n",
       "    </tr>\n",
       "    <tr>\n",
       "      <th>3</th>\n",
       "      <td>7.664</td>\n",
       "      <td>52700</td>\n",
       "      <td>0.430740</td>\n",
       "      <td>5</td>\n",
       "      <td>1</td>\n",
       "      <td>22700</td>\n",
       "      <td>0</td>\n",
       "    </tr>\n",
       "    <tr>\n",
       "      <th>4</th>\n",
       "      <td>7.698</td>\n",
       "      <td>53000</td>\n",
       "      <td>0.433962</td>\n",
       "      <td>5</td>\n",
       "      <td>1</td>\n",
       "      <td>23000</td>\n",
       "      <td>0</td>\n",
       "    </tr>\n",
       "    <tr>\n",
       "      <th>...</th>\n",
       "      <td>...</td>\n",
       "      <td>...</td>\n",
       "      <td>...</td>\n",
       "      <td>...</td>\n",
       "      <td>...</td>\n",
       "      <td>...</td>\n",
       "      <td>...</td>\n",
       "    </tr>\n",
       "    <tr>\n",
       "      <th>77531</th>\n",
       "      <td>11.261</td>\n",
       "      <td>86600</td>\n",
       "      <td>0.653580</td>\n",
       "      <td>12</td>\n",
       "      <td>2</td>\n",
       "      <td>56600</td>\n",
       "      <td>1</td>\n",
       "    </tr>\n",
       "    <tr>\n",
       "      <th>77532</th>\n",
       "      <td>10.662</td>\n",
       "      <td>80900</td>\n",
       "      <td>0.629172</td>\n",
       "      <td>11</td>\n",
       "      <td>2</td>\n",
       "      <td>50900</td>\n",
       "      <td>1</td>\n",
       "    </tr>\n",
       "    <tr>\n",
       "      <th>77533</th>\n",
       "      <td>10.595</td>\n",
       "      <td>80300</td>\n",
       "      <td>0.626401</td>\n",
       "      <td>11</td>\n",
       "      <td>2</td>\n",
       "      <td>50300</td>\n",
       "      <td>1</td>\n",
       "    </tr>\n",
       "    <tr>\n",
       "      <th>77534</th>\n",
       "      <td>10.068</td>\n",
       "      <td>75300</td>\n",
       "      <td>0.601594</td>\n",
       "      <td>10</td>\n",
       "      <td>2</td>\n",
       "      <td>45300</td>\n",
       "      <td>1</td>\n",
       "    </tr>\n",
       "    <tr>\n",
       "      <th>77535</th>\n",
       "      <td>9.742</td>\n",
       "      <td>72300</td>\n",
       "      <td>0.585062</td>\n",
       "      <td>9</td>\n",
       "      <td>2</td>\n",
       "      <td>42300</td>\n",
       "      <td>1</td>\n",
       "    </tr>\n",
       "  </tbody>\n",
       "</table>\n",
       "<p>77536 rows × 7 columns</p>\n",
       "</div>"
      ],
      "text/plain": [
       "       interest_rate  borrower_income  debt_to_income  num_of_accounts  \\\n",
       "0              7.672            52800        0.431818                5   \n",
       "1              6.692            43600        0.311927                3   \n",
       "2              6.963            46100        0.349241                3   \n",
       "3              7.664            52700        0.430740                5   \n",
       "4              7.698            53000        0.433962                5   \n",
       "...              ...              ...             ...              ...   \n",
       "77531         11.261            86600        0.653580               12   \n",
       "77532         10.662            80900        0.629172               11   \n",
       "77533         10.595            80300        0.626401               11   \n",
       "77534         10.068            75300        0.601594               10   \n",
       "77535          9.742            72300        0.585062                9   \n",
       "\n",
       "       derogatory_marks  total_debt  loan_status  \n",
       "0                     1       22800            0  \n",
       "1                     0       13600            0  \n",
       "2                     0       16100            0  \n",
       "3                     1       22700            0  \n",
       "4                     1       23000            0  \n",
       "...                 ...         ...          ...  \n",
       "77531                 2       56600            1  \n",
       "77532                 2       50900            1  \n",
       "77533                 2       50300            1  \n",
       "77534                 2       45300            1  \n",
       "77535                 2       42300            1  \n",
       "\n",
       "[77536 rows x 7 columns]"
      ]
     },
     "execution_count": 20,
     "metadata": {},
     "output_type": "execute_result"
    }
   ],
   "source": [
    "# Review the X variable DataFrame\n",
    "x"
   ]
  },
  {
   "cell_type": "markdown",
   "metadata": {},
   "source": [
    "### Step 3: Check the balance of the labels variable (`y`) by using the `value_counts` function."
   ]
  },
  {
   "cell_type": "code",
   "execution_count": 21,
   "metadata": {},
   "outputs": [
    {
     "data": {
      "text/plain": [
       "loan_size\n",
       "9600.0       2596\n",
       "9800.0       2522\n",
       "9400.0       2511\n",
       "9200.0       2491\n",
       "9700.0       2475\n",
       "             ... \n",
       "22800.0         1\n",
       "22900.0         1\n",
       "23400.0         1\n",
       "23500.0         1\n",
       "23800.0         1\n",
       "Length: 182, dtype: int64"
      ]
     },
     "execution_count": 21,
     "metadata": {},
     "output_type": "execute_result"
    }
   ],
   "source": [
    "# Check the balance of our target values\n",
    "y.value_counts()"
   ]
  },
  {
   "cell_type": "markdown",
   "metadata": {},
   "source": [
    "### Step 4: Split the data into training and testing datasets by using `train_test_split`."
   ]
  },
  {
   "cell_type": "code",
   "execution_count": 22,
   "metadata": {},
   "outputs": [],
   "source": [
    "# Import the train_test_learn module\n",
    "from sklearn.model_selection import train_test_split\n",
    "\n",
    "# Split the data using train_test_split\n",
    "# Assign a random_state of 1 to the function\n",
    "X_train, X_test, y_train, y_test = train_test_split(x, y, random_state=1)"
   ]
  },
  {
   "cell_type": "markdown",
   "metadata": {},
   "source": [
    "---"
   ]
  },
  {
   "cell_type": "markdown",
   "metadata": {},
   "source": [
    "## Create a Logistic Regression Model with the Original Data"
   ]
  },
  {
   "cell_type": "markdown",
   "metadata": {},
   "source": [
    "###  Step 1: Fit a logistic regression model by using the training data (`X_train` and `y_train`)."
   ]
  },
  {
   "cell_type": "code",
   "execution_count": 23,
   "metadata": {},
   "outputs": [
    {
     "data": {
      "text/plain": [
       "LogisticRegression()"
      ]
     },
     "execution_count": 23,
     "metadata": {},
     "output_type": "execute_result"
    }
   ],
   "source": [
    "# Import the LogisticRegression module from SKLearn\n",
    "from sklearn.linear_model import LogisticRegression\n",
    "\n",
    "# Instantiate the Logistic Regression model\n",
    "# Assign a random_state parameter of 1 to the model\n",
    "logistic_regression_model = LogisticRegression()\n",
    "\n",
    "# Fit the model using training data\n",
    "logistic_regression_model.fit(X_train , y_train )"
   ]
  },
  {
   "cell_type": "markdown",
   "metadata": {},
   "source": [
    "### Step 2: Save the predictions on the testing data labels by using the testing feature data (`X_test`) and the fitted model."
   ]
  },
  {
   "cell_type": "code",
   "execution_count": 24,
   "metadata": {},
   "outputs": [
    {
     "data": {
      "text/html": [
       "<div>\n",
       "<style scoped>\n",
       "    .dataframe tbody tr th:only-of-type {\n",
       "        vertical-align: middle;\n",
       "    }\n",
       "\n",
       "    .dataframe tbody tr th {\n",
       "        vertical-align: top;\n",
       "    }\n",
       "\n",
       "    .dataframe thead th {\n",
       "        text-align: right;\n",
       "    }\n",
       "</style>\n",
       "<table border=\"1\" class=\"dataframe\">\n",
       "  <thead>\n",
       "    <tr style=\"text-align: right;\">\n",
       "      <th></th>\n",
       "      <th>Prediction</th>\n",
       "    </tr>\n",
       "  </thead>\n",
       "  <tbody>\n",
       "    <tr>\n",
       "      <th>0</th>\n",
       "      <td>11100.0</td>\n",
       "    </tr>\n",
       "    <tr>\n",
       "      <th>1</th>\n",
       "      <td>9700.0</td>\n",
       "    </tr>\n",
       "    <tr>\n",
       "      <th>2</th>\n",
       "      <td>10600.0</td>\n",
       "    </tr>\n",
       "    <tr>\n",
       "      <th>3</th>\n",
       "      <td>10400.0</td>\n",
       "    </tr>\n",
       "    <tr>\n",
       "      <th>4</th>\n",
       "      <td>9800.0</td>\n",
       "    </tr>\n",
       "    <tr>\n",
       "      <th>...</th>\n",
       "      <td>...</td>\n",
       "    </tr>\n",
       "    <tr>\n",
       "      <th>19379</th>\n",
       "      <td>9800.0</td>\n",
       "    </tr>\n",
       "    <tr>\n",
       "      <th>19380</th>\n",
       "      <td>9800.0</td>\n",
       "    </tr>\n",
       "    <tr>\n",
       "      <th>19381</th>\n",
       "      <td>8200.0</td>\n",
       "    </tr>\n",
       "    <tr>\n",
       "      <th>19382</th>\n",
       "      <td>10700.0</td>\n",
       "    </tr>\n",
       "    <tr>\n",
       "      <th>19383</th>\n",
       "      <td>9200.0</td>\n",
       "    </tr>\n",
       "  </tbody>\n",
       "</table>\n",
       "<p>19384 rows × 1 columns</p>\n",
       "</div>"
      ],
      "text/plain": [
       "       Prediction\n",
       "0         11100.0\n",
       "1          9700.0\n",
       "2         10600.0\n",
       "3         10400.0\n",
       "4          9800.0\n",
       "...           ...\n",
       "19379      9800.0\n",
       "19380      9800.0\n",
       "19381      8200.0\n",
       "19382     10700.0\n",
       "19383      9200.0\n",
       "\n",
       "[19384 rows x 1 columns]"
      ]
     },
     "execution_count": 24,
     "metadata": {},
     "output_type": "execute_result"
    }
   ],
   "source": [
    "# Make a prediction using the testing data\n",
    "prediction = logistic_regression_model.predict(X_test)\n",
    "\n",
    "results_df = pd.DataFrame({\"Prediction\": prediction,})\n",
    "results_df"
   ]
  },
  {
   "cell_type": "markdown",
   "metadata": {},
   "source": [
    "### Step 3: Evaluate the model’s performance by doing the following:\n",
    "\n",
    "* Calculate the accuracy score of the model.\n",
    "\n",
    "* Generate a confusion matrix.\n",
    "\n",
    "* Print the classification report."
   ]
  },
  {
   "cell_type": "code",
   "execution_count": 25,
   "metadata": {},
   "outputs": [],
   "source": [
    "# Print the balanced_accuracy score of the model\n",
    "Acuracy_test = balanced_accuracy_score(y_test, prediction)"
   ]
  },
  {
   "cell_type": "code",
   "execution_count": 26,
   "metadata": {},
   "outputs": [
    {
     "data": {
      "text/plain": [
       "array([[0, 0, 0, ..., 0, 0, 0],\n",
       "       [0, 0, 0, ..., 0, 0, 0],\n",
       "       [0, 0, 0, ..., 0, 0, 0],\n",
       "       ...,\n",
       "       [0, 0, 0, ..., 0, 0, 0],\n",
       "       [0, 0, 0, ..., 0, 0, 0],\n",
       "       [0, 0, 0, ..., 0, 0, 0]], dtype=int64)"
      ]
     },
     "execution_count": 26,
     "metadata": {},
     "output_type": "execute_result"
    }
   ],
   "source": [
    "# Generate a confusion matrix for the model\n",
    "confusion_matrix(y_test, prediction)"
   ]
  },
  {
   "cell_type": "code",
   "execution_count": 27,
   "metadata": {},
   "outputs": [
    {
     "name": "stdout",
     "output_type": "stream",
     "text": [
      "                   pre       rec       spe        f1       geo       iba       sup\n",
      "\n",
      "     5200.0       0.00      0.00      1.00      0.00      0.00      0.00         2\n",
      "     5600.0       0.00      0.00      1.00      0.00      0.00      0.00         2\n",
      "     5700.0       0.00      0.00      1.00      0.00      0.00      0.00         5\n",
      "     5800.0       0.00      0.00      1.00      0.00      0.00      0.00         7\n",
      "     5900.0       0.00      0.00      1.00      0.00      0.00      0.00         6\n",
      "     6000.0       0.00      0.00      1.00      0.00      0.00      0.00         6\n",
      "     6100.0       0.00      0.00      1.00      0.00      0.00      0.00        12\n",
      "     6200.0       0.00      0.00      1.00      0.00      0.00      0.00        14\n",
      "     6300.0       0.00      0.00      1.00      0.00      0.00      0.00        15\n",
      "     6400.0       0.00      0.00      1.00      0.00      0.00      0.00        22\n",
      "     6500.0       0.00      0.00      1.00      0.00      0.00      0.00        39\n",
      "     6600.0       0.00      0.00      1.00      0.00      0.00      0.00        28\n",
      "     6700.0       0.00      0.00      1.00      0.00      0.00      0.00        39\n",
      "     6800.0       0.00      0.00      1.00      0.00      0.00      0.00        50\n",
      "     6900.0       0.00      0.00      1.00      0.00      0.00      0.00        71\n",
      "     7000.0       0.00      0.00      1.00      0.00      0.00      0.00        72\n",
      "     7100.0       0.00      0.00      1.00      0.00      0.00      0.00        81\n",
      "     7200.0       0.00      0.00      1.00      0.00      0.00      0.00        92\n",
      "     7300.0       0.00      0.00      1.00      0.00      0.00      0.00       101\n",
      "     7400.0       0.00      0.00      1.00      0.00      0.00      0.00       140\n",
      "     7500.0       0.00      0.00      1.00      0.00      0.00      0.00       170\n",
      "     7600.0       0.00      0.00      1.00      0.00      0.00      0.00       183\n",
      "     7700.0       0.00      0.00      1.00      0.00      0.00      0.00       211\n",
      "     7800.0       0.00      0.00      0.96      0.00      0.00      0.00       243\n",
      "     7900.0       0.00      0.00      1.00      0.00      0.00      0.00       250\n",
      "     8000.0       0.00      0.00      0.98      0.00      0.00      0.00       306\n",
      "     8100.0       0.00      0.00      0.98      0.00      0.00      0.00       324\n",
      "     8200.0       0.00      0.00      0.96      0.00      0.00      0.00       364\n",
      "     8300.0       0.00      0.00      1.00      0.00      0.00      0.00       391\n",
      "     8400.0       0.00      0.00      0.97      0.00      0.00      0.00       422\n",
      "     8500.0       0.00      0.00      0.98      0.00      0.00      0.00       481\n",
      "     8600.0       0.19      0.34      0.96      0.24      0.57      0.30       517\n",
      "     8700.0       0.12      0.09      0.98      0.10      0.30      0.08       497\n",
      "     8800.0       0.52      0.90      0.98      0.66      0.94      0.87       544\n",
      "     8900.0       0.00      0.00      1.00      0.00      0.00      0.00       560\n",
      "     9000.0       0.00      0.00      0.97      0.00      0.00      0.00       558\n",
      "     9100.0       0.23      0.33      0.97      0.27      0.56      0.30       584\n",
      "     9200.0       0.44      1.00      0.96      0.61      0.98      0.96       596\n",
      "     9300.0       0.00      0.00      1.00      0.00      0.00      0.00       619\n",
      "     9400.0       0.00      0.00      1.00      0.00      0.00      0.00       593\n",
      "     9500.0       0.25      1.00      0.90      0.39      0.95      0.91       616\n",
      "     9600.0       0.00      0.00      1.00      0.00      0.00      0.00       664\n",
      "     9700.0       0.28      0.36      0.97      0.32      0.59      0.33       611\n",
      "     9800.0       0.09      0.12      0.96      0.10      0.34      0.10       628\n",
      "     9900.0       0.00      0.00      1.00      0.00      0.00      0.00       588\n",
      "    10000.0       0.00      0.00      1.00      0.00      0.00      0.00       554\n",
      "    10100.0       0.17      1.00      0.86      0.29      0.93      0.87       530\n",
      "    10200.0       0.00      0.00      1.00      0.00      0.00      0.00       559\n",
      "    10300.0       0.00      0.00      1.00      0.00      0.00      0.00       525\n",
      "    10400.0       0.00      0.00      0.98      0.00      0.00      0.00       448\n",
      "    10500.0       0.00      0.00      1.00      0.00      0.00      0.00       382\n",
      "    10600.0       0.00      0.00      0.97      0.00      0.00      0.00       394\n",
      "    10700.0       0.00      0.00      0.94      0.00      0.00      0.00       353\n",
      "    10800.0       0.00      0.00      1.00      0.00      0.00      0.00       353\n",
      "    10900.0       0.00      0.00      0.98      0.00      0.00      0.00       307\n",
      "    11000.0       0.00      0.00      1.00      0.00      0.00      0.00       267\n",
      "    11100.0       0.00      0.00      0.98      0.00      0.00      0.00       236\n",
      "    11200.0       0.00      0.00      1.00      0.00      0.00      0.00       262\n",
      "    11300.0       0.00      0.00      1.00      0.00      0.00      0.00       194\n",
      "    11400.0       0.00      0.00      1.00      0.00      0.00      0.00       159\n",
      "    11500.0       0.00      0.00      1.00      0.00      0.00      0.00       139\n",
      "    11600.0       0.00      0.00      1.00      0.00      0.00      0.00       109\n",
      "    11700.0       0.00      0.00      1.00      0.00      0.00      0.00       109\n",
      "    11800.0       0.00      0.00      1.00      0.00      0.00      0.00        79\n",
      "    11900.0       0.00      0.00      1.00      0.00      0.00      0.00        77\n",
      "    12000.0       0.00      0.00      1.00      0.00      0.00      0.00        66\n",
      "    12100.0       0.00      0.00      1.00      0.00      0.00      0.00        57\n",
      "    12200.0       0.00      0.00      0.99      0.00      0.00      0.00        40\n",
      "    12300.0       0.00      0.00      1.00      0.00      0.00      0.00        31\n",
      "    12400.0       0.00      0.00      1.00      0.00      0.00      0.00        21\n",
      "    12500.0       0.00      0.00      1.00      0.00      0.00      0.00        13\n",
      "    12600.0       0.00      0.00      1.00      0.00      0.00      0.00        12\n",
      "    12700.0       0.00      0.00      1.00      0.00      0.00      0.00        13\n",
      "    12800.0       0.00      0.00      1.00      0.00      0.00      0.00        12\n",
      "    12900.0       0.00      0.00      1.00      0.00      0.00      0.00         8\n",
      "    13000.0       0.00      0.00      1.00      0.00      0.00      0.00         6\n",
      "    13100.0       0.00      0.00      1.00      0.00      0.00      0.00         5\n",
      "    13200.0       0.00      0.00      1.00      0.00      0.00      0.00         3\n",
      "    13400.0       0.00      0.00      1.00      0.00      0.00      0.00         4\n",
      "    13500.0       0.00      0.00      1.00      0.00      0.00      0.00         2\n",
      "    13900.0       0.00      0.00      1.00      0.00      0.00      0.00         1\n",
      "    14000.0       0.00      0.00      1.00      0.00      0.00      0.00         1\n",
      "    14100.0       0.00      0.00      1.00      0.00      0.00      0.00         1\n",
      "    14200.0       0.00      0.00      1.00      0.00      0.00      0.00         1\n",
      "    14300.0       0.00      0.00      1.00      0.00      0.00      0.00         1\n",
      "    14600.0       0.00      0.00      1.00      0.00      0.00      0.00         1\n",
      "    14700.0       0.00      0.00      1.00      0.00      0.00      0.00         1\n",
      "    14900.0       0.00      0.00      1.00      0.00      0.00      0.00         2\n",
      "    15100.0       0.00      0.00      1.00      0.00      0.00      0.00         1\n",
      "    15200.0       0.00      0.00      1.00      0.00      0.00      0.00         1\n",
      "    15300.0       0.00      0.00      1.00      0.00      0.00      0.00         1\n",
      "    15400.0       0.00      0.00      1.00      0.00      0.00      0.00         6\n",
      "    15500.0       0.00      0.00      1.00      0.00      0.00      0.00         2\n",
      "    15700.0       0.00      0.00      1.00      0.00      0.00      0.00         5\n",
      "    15800.0       0.00      0.00      1.00      0.00      0.00      0.00         5\n",
      "    15900.0       0.00      0.00      1.00      0.00      0.00      0.00         1\n",
      "    16000.0       0.00      0.00      1.00      0.00      0.00      0.00         4\n",
      "    16100.0       0.00      0.00      1.00      0.00      0.00      0.00         4\n",
      "    16200.0       0.00      0.00      1.00      0.00      0.00      0.00         9\n",
      "    16300.0       0.00      0.00      1.00      0.00      0.00      0.00         3\n",
      "    16400.0       0.00      0.00      1.00      0.00      0.00      0.00        14\n",
      "    16500.0       0.00      0.00      1.00      0.00      0.00      0.00         6\n",
      "    16600.0       0.00      0.00      1.00      0.00      0.00      0.00         3\n",
      "    16700.0       0.00      0.00      1.00      0.00      0.00      0.00         8\n",
      "    16800.0       0.00      0.00      1.00      0.00      0.00      0.00        12\n",
      "    16900.0       0.00      0.00      1.00      0.00      0.00      0.00        12\n",
      "    17000.0       0.00      0.00      1.00      0.00      0.00      0.00        15\n",
      "    17100.0       0.00      0.00      1.00      0.00      0.00      0.00         4\n",
      "    17200.0       0.00      0.00      1.00      0.00      0.00      0.00        19\n",
      "    17300.0       0.00      0.00      1.00      0.00      0.00      0.00        13\n",
      "    17400.0       0.00      0.00      1.00      0.00      0.00      0.00        15\n",
      "    17500.0       0.00      0.00      1.00      0.00      0.00      0.00        12\n",
      "    17600.0       0.00      0.00      1.00      0.00      0.00      0.00        20\n",
      "    17700.0       0.00      0.00      1.00      0.00      0.00      0.00        11\n",
      "    17800.0       0.00      0.00      1.00      0.00      0.00      0.00        20\n",
      "    17900.0       0.00      0.00      1.00      0.00      0.00      0.00        19\n",
      "    18000.0       0.00      0.00      1.00      0.00      0.00      0.00        11\n",
      "    18100.0       0.00      0.00      1.00      0.00      0.00      0.00        16\n",
      "    18200.0       0.00      0.00      1.00      0.00      0.00      0.00        16\n",
      "    18300.0       0.00      0.00      1.00      0.00      0.00      0.00        26\n",
      "    18400.0       0.00      0.00      1.00      0.00      0.00      0.00        28\n",
      "    18500.0       0.00      0.00      1.00      0.00      0.00      0.00        13\n",
      "    18600.0       0.00      0.00      1.00      0.00      0.00      0.00        18\n",
      "    18700.0       0.00      0.00      1.00      0.00      0.00      0.00        25\n",
      "    18800.0       0.00      0.00      1.00      0.00      0.00      0.00        14\n",
      "    18900.0       0.00      0.00      1.00      0.00      0.00      0.00        17\n",
      "    19000.0       0.00      0.00      1.00      0.00      0.00      0.00        18\n",
      "    19100.0       0.00      0.00      1.00      0.00      0.00      0.00        18\n",
      "    19200.0       0.00      0.00      1.00      0.00      0.00      0.00        28\n",
      "    19300.0       0.04      1.00      0.99      0.09      0.99      0.99        13\n",
      "    19400.0       0.00      0.00      1.00      0.00      0.00      0.00        22\n",
      "    19500.0       0.00      0.00      1.00      0.00      0.00      0.00        18\n",
      "    19600.0       0.00      0.00      1.00      0.00      0.00      0.00        18\n",
      "    19700.0       0.00      0.00      1.00      0.00      0.00      0.00        12\n",
      "    19800.0       0.00      0.00      1.00      0.00      0.00      0.00        13\n",
      "    19900.0       0.00      0.00      1.00      0.00      0.00      0.00        16\n",
      "    20000.0       0.00      0.00      1.00      0.00      0.00      0.00         7\n",
      "    20100.0       0.00      0.00      1.00      0.00      0.00      0.00        16\n",
      "    20200.0       0.00      0.00      1.00      0.00      0.00      0.00         7\n",
      "    20300.0       0.00      0.00      1.00      0.00      0.00      0.00        17\n",
      "    20400.0       0.00      0.00      1.00      0.00      0.00      0.00         7\n",
      "    20500.0       0.00      0.00      1.00      0.00      0.00      0.00         8\n",
      "    20600.0       0.00      0.00      1.00      0.00      0.00      0.00        10\n",
      "    20700.0       0.00      0.00      1.00      0.00      0.00      0.00         6\n",
      "    20800.0       0.00      0.00      1.00      0.00      0.00      0.00         7\n",
      "    20900.0       0.00      0.00      1.00      0.00      0.00      0.00         5\n",
      "    21000.0       0.00      0.00      1.00      0.00      0.00      0.00         5\n",
      "    21100.0       0.00      0.00      1.00      0.00      0.00      0.00         2\n",
      "    21200.0       0.00      0.00      1.00      0.00      0.00      0.00         2\n",
      "    21300.0       0.00      0.00      1.00      0.00      0.00      0.00         4\n",
      "    21500.0       0.00      0.00      1.00      0.00      0.00      0.00         1\n",
      "    21600.0       0.00      0.00      1.00      0.00      0.00      0.00         1\n",
      "    21700.0       0.00      0.00      1.00      0.00      0.00      0.00         2\n",
      "    21800.0       0.00      0.00      1.00      0.00      0.00      0.00         2\n",
      "    21900.0       0.00      0.00      1.00      0.00      0.00      0.00         2\n",
      "    22100.0       0.00      0.00      1.00      0.00      0.00      0.00         1\n",
      "    22200.0       0.00      0.00      1.00      0.00      0.00      0.00         1\n",
      "    22300.0       0.00      0.00      1.00      0.00      0.00      0.00         1\n",
      "    22500.0       0.00      0.00      1.00      0.00      0.00      0.00         1\n",
      "    22800.0       0.00      0.00      1.00      0.00      0.00      0.00         1\n",
      "    23100.0       0.00      0.00      1.00      0.00      0.00      0.00         1\n",
      "\n",
      "avg / total       0.07      0.15      0.98      0.09      0.18      0.14     19384\n",
      "\n"
     ]
    }
   ],
   "source": [
    "# Print the classification report for the model\n",
    "print(classification_report_imbalanced(y_test, prediction))"
   ]
  },
  {
   "cell_type": "markdown",
   "metadata": {},
   "source": [
    "### Step 4: Answer the following question."
   ]
  },
  {
   "cell_type": "markdown",
   "metadata": {},
   "source": [
    "**Question:** How well does the logistic regression model predict both the `0` (healthy loan) and `1` (high-risk loan) labels?\n",
    "\n",
    "**Answer:** a very high rate of accuracy. "
   ]
  },
  {
   "cell_type": "markdown",
   "metadata": {},
   "source": [
    "---"
   ]
  },
  {
   "cell_type": "markdown",
   "metadata": {},
   "source": [
    "## Predict a Logistic Regression Model with Resampled Training Data"
   ]
  },
  {
   "cell_type": "markdown",
   "metadata": {},
   "source": [
    "### Step 1: Use the `RandomOverSampler` module from the imbalanced-learn library to resample the data. Be sure to confirm that the labels have an equal number of data points. "
   ]
  },
  {
   "cell_type": "code",
   "execution_count": null,
   "metadata": {},
   "outputs": [],
   "source": [
    "# Import the RandomOverSampler module form imbalanced-learn\n",
    "from imblearn.over_sampling import RandomOverSampler\n",
    "\n",
    "# Instantiate the random oversampler model\n",
    "# # Assign a random_state parameter of 1 to the model\n",
    "logistic_regression_model = LogisticRegression()\n",
    "\n",
    "# Fit the original training data to the random_oversampler model\n",
    "x_shapped,y_shapped = logistic_regression_model.fit(X_train, y_train) "
   ]
  },
  {
   "cell_type": "code",
   "execution_count": null,
   "metadata": {},
   "outputs": [],
   "source": [
    "# Count the distinct values of the resampled labels data\n",
    "print(results_df.nunique())"
   ]
  },
  {
   "cell_type": "markdown",
   "metadata": {},
   "source": [
    "### Step 2: Use the `LogisticRegression` classifier and the resampled data to fit the model and make predictions."
   ]
  },
  {
   "cell_type": "code",
   "execution_count": null,
   "metadata": {},
   "outputs": [],
   "source": [
    "# Instantiate the Logistic Regression model\n",
    "# Assign a random_state parameter of 1 to the model\n",
    "logistic_regression_model2 = LogisticRegression(logistic_regression_model)\n",
    "\n",
    "\n",
    "# Fit the model using the resampled training data\n",
    "logistic_regression_model2_shaped = logistic_regression_model2.fit(X_shapped, y_shapped)\n",
    "\n",
    "# Make a prediction using the testing data\n",
    "y_shapped = logistic_regression_model2.fit(x_shapped, y_shapped)\n",
    "\n",
    "refine_results_df = pd.DataFrame({\"Prediction\": prediction, \"Actual\": training_targets})\n",
    "refine_results_df"
   ]
  },
  {
   "cell_type": "markdown",
   "metadata": {},
   "source": [
    "### Step 3: Evaluate the model’s performance by doing the following:\n",
    "\n",
    "* Calculate the accuracy score of the model.\n",
    "\n",
    "* Generate a confusion matrix.\n",
    "\n",
    "* Print the classification report."
   ]
  },
  {
   "cell_type": "code",
   "execution_count": null,
   "metadata": {},
   "outputs": [],
   "source": [
    "# Print the balanced_accuracy score of the model \n",
    "ballanced_accuracy_score(y_test, y_shapped)"
   ]
  },
  {
   "cell_type": "code",
   "execution_count": null,
   "metadata": {},
   "outputs": [],
   "source": [
    "# Generate a confusion matrix for the model\n",
    "confusion_matrix(y_test,y_shapped)"
   ]
  },
  {
   "cell_type": "code",
   "execution_count": null,
   "metadata": {},
   "outputs": [],
   "source": [
    "# Print the classification report for the model\n",
    "print(DataResult_classification_report(y_test, y_shapped))"
   ]
  },
  {
   "cell_type": "markdown",
   "metadata": {},
   "source": [
    "### Step 4: Answer the following question"
   ]
  },
  {
   "cell_type": "markdown",
   "metadata": {},
   "source": [
    "**Question:** How well does the logistic regression model, fit with oversampled data, predict both the `0` (healthy loan) and `1` (high-risk loan) labels?\n",
    "\n",
    "**Answer:** YOUR ANSWER HERE!\n",
    "#The accuracy improved after the regression model. "
   ]
  },
  {
   "cell_type": "code",
   "execution_count": null,
   "metadata": {},
   "outputs": [],
   "source": []
  }
 ],
 "metadata": {
  "interpreter": {
   "hash": "2f3fd964406406b39bacddcc4d8d927d2d545c0de72a2b7b1d3c62308b776e1c"
  },
  "kernelspec": {
   "display_name": "Python 3 (ipykernel)",
   "language": "python",
   "name": "python3"
  },
  "language_info": {
   "codemirror_mode": {
    "name": "ipython",
    "version": 3
   },
   "file_extension": ".py",
   "mimetype": "text/x-python",
   "name": "python",
   "nbconvert_exporter": "python",
   "pygments_lexer": "ipython3",
   "version": "3.7.11"
  }
 },
 "nbformat": 4,
 "nbformat_minor": 4
}
